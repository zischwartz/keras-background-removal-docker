{
 "cells": [
  {
   "cell_type": "code",
   "execution_count": 1,
   "metadata": {},
   "outputs": [
    {
     "name": "stderr",
     "output_type": "stream",
     "text": [
      "Using TensorFlow backend.\n"
     ]
    }
   ],
   "source": [
    "# This code is based on example code from https://github.com/rorodata/background-removal\n",
    "\n",
    "import os\n",
    "import sys\n",
    "from PIL import Image\n",
    "from scipy.misc import imresize\n",
    "import numpy as np\n",
    "from keras.models import load_model\n",
    "import tensorflow as tf\n",
    "import io\n",
    "import requests\n",
    "import base64\n",
    "from keras.preprocessing import image as KerasImage\n",
    "%matplotlib inline\n",
    "import matplotlib.pyplot as plt\n"
   ]
  },
  {
   "cell_type": "code",
   "execution_count": 2,
   "metadata": {},
   "outputs": [
    {
     "name": "stdout",
     "output_type": "stream",
     "text": [
      "Model file is already downloaded.\n",
      "Loading model\n"
     ]
    },
    {
     "name": "stderr",
     "output_type": "stream",
     "text": [
      "/usr/local/lib/python2.7/dist-packages/keras/engine/topology.py:1271: UserWarning: The `Merge` layer is deprecated and will be removed after 08/2017. Use instead layers from `keras.layers.merge`, e.g. `add`, `concatenate`, etc.\n",
      "  return cls(**config)\n"
     ]
    }
   ],
   "source": [
    "MODEL_URL = 'https://gitlab.com/fast-science/background-removal-server/raw/master/webapp/model/main_model.hdf5'\n",
    "MODEL_PATH = '/notebooks/work/main_model.hdf5'\n",
    "\n",
    "def download_model():\n",
    "    \"\"\"Downloads the model file.\n",
    "    \"\"\"\n",
    "    if os.path.exists(MODEL_PATH):\n",
    "        print(\"Model file is already downloaded.\")\n",
    "        return\n",
    "    # Download to a tmp file and move it to final file to avoid inconsistent state\n",
    "    # if download fails or cancelled.\n",
    "    print(\"Model file is not available. downloading...\")\n",
    "    exit_status = os.system(\"wget {} -O {}.tmp\".format(MODEL_URL, MODEL_PATH))\n",
    "    if exit_status == 0:\n",
    "        os.system(\"mv {}.tmp {}\".format(MODEL_PATH, MODEL_PATH))\n",
    "    else:\n",
    "        print(\"Failed to download the model file\" )\n",
    "        sys.exit(1)\n",
    "\n",
    "# Preload our model\n",
    "download_model()\n",
    "print(\"Loading model\")\n",
    "model = load_model(MODEL_PATH, compile=False)\n",
    "graph = tf.get_default_graph()"
   ]
  },
  {
   "cell_type": "code",
   "execution_count": 3,
   "metadata": {},
   "outputs": [],
   "source": [
    "def ml_predict(image):\n",
    "    with graph.as_default():\n",
    "        # Add a dimension for the batch\n",
    "        prediction = model.predict(image[None, :, :, :])\n",
    "    prediction = prediction.reshape((224,224, -1))\n",
    "    return prediction\n",
    "\n",
    "\n",
    "# THRESHOLD = 0.5\n",
    "def predict_image(image, THRESHOLD=0.5):\n",
    "    image_as_array = KerasImage.img_to_array(image)\n",
    "    \"\"\"Removed the background of given image.\n",
    "    :param image: numpy array\n",
    "    \"\"\"\n",
    "    height, width = image_as_array.shape[0], image_as_array.shape[1]\n",
    "    resized_image = imresize(image_as_array, (224, 224)) / 255.0\n",
    "\n",
    "    # Model input shape = (224,224,3)\n",
    "    # [0:3] - Take only the first 3 RGB channels and drop ALPHA 4th channel in case this is a PNG\n",
    "    prediction = ml_predict(resized_image[:, :, 0:3])\n",
    "    print('PREDICTION COUNT', (prediction[:, :, 1]>THRESHOLD).sum())\n",
    "\n",
    "    # Resize back to original image size\n",
    "    # [:, :, 1] = Take predicted class 1 - currently in our model = Person class. Class 0 = Background\n",
    "    prediction = imresize(prediction[:, :, 1], (height, width))\n",
    "    \n",
    "    prediction[prediction<THRESHOLD*255] = 0\n",
    "    prediction[prediction>=THRESHOLD*255] = 1\n",
    "    \n",
    "    #return prediction\n",
    "\n",
    "    res1=prediction*image_as_array[0:,:,0]\n",
    "    res2=prediction*image_as_array[0:,:,1]\n",
    "    res3=prediction*image_as_array[0:,:,2]\n",
    "    img2=np.dstack([res1,res2,res3])\n",
    "    return KerasImage.array_to_img(img2)"
   ]
  },
  {
   "cell_type": "code",
   "execution_count": 4,
   "metadata": {},
   "outputs": [],
   "source": [
    "\n",
    "files_in_input_dir = ! cd input && ls"
   ]
  },
  {
   "cell_type": "code",
   "execution_count": 5,
   "metadata": {},
   "outputs": [
    {
     "name": "stdout",
     "output_type": "stream",
     "text": [
      "36\n"
     ]
    }
   ],
   "source": [
    "print(len(files_in_input_dir))"
   ]
  },
  {
   "cell_type": "code",
   "execution_count": 6,
   "metadata": {},
   "outputs": [
    {
     "name": "stdout",
     "output_type": "stream",
     "text": [
      "P00003186.jpg\n"
     ]
    },
    {
     "name": "stderr",
     "output_type": "stream",
     "text": [
      "/usr/local/lib/python2.7/dist-packages/ipykernel_launcher.py:16: DeprecationWarning: `imresize` is deprecated!\n",
      "`imresize` is deprecated in SciPy 1.0.0, and will be removed in 1.2.0.\n",
      "Use ``skimage.transform.resize`` instead.\n",
      "  app.launch_new_instance()\n"
     ]
    },
    {
     "name": "stdout",
     "output_type": "stream",
     "text": [
      "('PREDICTION COUNT', 27544)\n",
      "results done\n",
      "P00003251.jpg\n"
     ]
    },
    {
     "name": "stderr",
     "output_type": "stream",
     "text": [
      "/usr/local/lib/python2.7/dist-packages/ipykernel_launcher.py:25: DeprecationWarning: `imresize` is deprecated!\n",
      "`imresize` is deprecated in SciPy 1.0.0, and will be removed in 1.2.0.\n",
      "Use ``skimage.transform.resize`` instead.\n"
     ]
    },
    {
     "name": "stdout",
     "output_type": "stream",
     "text": [
      "('PREDICTION COUNT', 30002)\n",
      "results done\n",
      "P00003392.jpg\n",
      "('PREDICTION COUNT', 27095)\n",
      "results done\n",
      "P00003608.jpg\n",
      "('PREDICTION COUNT', 28758)\n",
      "results done\n",
      "P20002671.jpg\n",
      "('PREDICTION COUNT', 30181)\n",
      "results done\n",
      "P20002804.jpg\n",
      "('PREDICTION COUNT', 37788)\n",
      "results done\n",
      "P20003984.jpg\n",
      "('PREDICTION COUNT', 32266)\n",
      "results done\n",
      "P40002347.jpg\n",
      "('PREDICTION COUNT', 30533)\n",
      "results done\n",
      "P40003576.jpg\n",
      "('PREDICTION COUNT', 28703)\n",
      "results done\n",
      "P60003076.jpg\n",
      "('PREDICTION COUNT', 22156)\n",
      "results done\n",
      "P60003654.jpg\n",
      "('PREDICTION COUNT', 32059)\n",
      "results done\n",
      "P60003670.jpg\n",
      "('PREDICTION COUNT', 35211)\n",
      "results done\n",
      "P60006111.jpg\n",
      "('PREDICTION COUNT', 24803)\n",
      "results done\n",
      "P60006731.jpg\n",
      "('PREDICTION COUNT', 4615)\n",
      "results done\n",
      "P60007168.jpg\n",
      "('PREDICTION COUNT', 30470)\n",
      "results done\n",
      "P60007242.jpg\n",
      "('PREDICTION COUNT', 18566)\n",
      "results done\n",
      "P60009636.jpg\n",
      "('PREDICTION COUNT', 30605)\n",
      "results done\n",
      "P60009685.jpg\n",
      "('PREDICTION COUNT', 36569)\n",
      "results done\n",
      "P60015948.jpg\n",
      "('PREDICTION COUNT', 21360)\n",
      "results done\n",
      "P60017563.jpg\n",
      "('PREDICTION COUNT', 17126)\n",
      "results done\n",
      "P80000235.jpg\n",
      "('PREDICTION COUNT', 31785)\n",
      "results done\n",
      "P80000912.jpg\n",
      "('PREDICTION COUNT', 30238)\n",
      "results done\n",
      "P80001571.jpg\n",
      "('PREDICTION COUNT', 32187)\n",
      "results done\n",
      "P80002801.jpg\n",
      "('PREDICTION COUNT', 26169)\n",
      "results done\n",
      "P80002835.jpg\n",
      "('PREDICTION COUNT', 29195)\n",
      "results done\n",
      "P80002868.jpg\n",
      "('PREDICTION COUNT', 27139)\n",
      "results done\n",
      "P80003023.jpg\n",
      "('PREDICTION COUNT', 30265)\n",
      "results done\n",
      "P80003247.jpg\n",
      "('PREDICTION COUNT', 25862)\n",
      "results done\n",
      "P80003338.jpg\n",
      "('PREDICTION COUNT', 27822)\n",
      "results done\n",
      "P80003353.jpg\n",
      "('PREDICTION COUNT', 27875)\n",
      "results done\n",
      "P80003452.jpg\n",
      "('PREDICTION COUNT', 27096)\n",
      "results done\n",
      "P80003478.jpg\n",
      "('PREDICTION COUNT', 27868)\n",
      "results done\n",
      "P80004740.jpg\n",
      "('PREDICTION COUNT', 25166)\n",
      "results done\n",
      "P80005291.jpg\n",
      "('PREDICTION COUNT', 28243)\n",
      "results done\n"
     ]
    }
   ],
   "source": [
    "def is_image_file(item):\n",
    "    if item.endswith('.jpg') or item.endswith('.png'):\n",
    "        return True\n",
    "    else: \n",
    "        return False\n",
    "\n",
    "\n",
    "image_filenames = filter(is_image_file, files_in_input_dir)\n",
    "# image_filenames\n",
    "\n",
    "for filename in image_filenames:\n",
    "    print(filename)\n",
    "    input_path = 'input/'+filename\n",
    "    image = KerasImage.load_img(input_path)\n",
    "    result = predict_image(image)\n",
    "    print('results done')\n",
    "    output_path = 'output/'+'.'.join(filename.split('.')[:-1])+'.png'\n",
    "#     result_resized = result\n",
    "    \n",
    "    # just want to hardwire these couple \n",
    "    result_resized = result.resize( (112,137) )\n",
    "#   or make it half the original\n",
    "#     result_resized = result.resize( (result.size[0]/2, result.size[1]/2 ) )\n",
    "    result_resized.save(output_path, transparency=[0,0,0])"
   ]
  },
  {
   "cell_type": "code",
   "execution_count": 7,
   "metadata": {},
   "outputs": [
    {
     "data": {
      "text/plain": [
       "(112, 137)"
      ]
     },
     "execution_count": 7,
     "metadata": {},
     "output_type": "execute_result"
    }
   ],
   "source": [
    "t = (112,137)\n",
    "t"
   ]
  },
  {
   "cell_type": "code",
   "execution_count": 8,
   "metadata": {},
   "outputs": [
    {
     "ename": "NameError",
     "evalue": "name 'path' is not defined",
     "output_type": "error",
     "traceback": [
      "\u001b[0;31m---------------------------------------------------------------------------\u001b[0m",
      "\u001b[0;31mNameError\u001b[0m                                 Traceback (most recent call last)",
      "\u001b[0;32m<ipython-input-8-c7b106264843>\u001b[0m in \u001b[0;36m<module>\u001b[0;34m()\u001b[0m\n\u001b[1;32m      1\u001b[0m \u001b[0;31m# old\u001b[0m\u001b[0;34m\u001b[0m\u001b[0;34m\u001b[0m\u001b[0m\n\u001b[1;32m      2\u001b[0m \u001b[0minput_path\u001b[0m \u001b[0;34m=\u001b[0m \u001b[0;34m'input/'\u001b[0m\u001b[0;34m+\u001b[0m\u001b[0mimage_filenames\u001b[0m\u001b[0;34m[\u001b[0m\u001b[0;36m0\u001b[0m\u001b[0;34m]\u001b[0m\u001b[0;34m\u001b[0m\u001b[0m\n\u001b[0;32m----> 3\u001b[0;31m \u001b[0mimage\u001b[0m \u001b[0;34m=\u001b[0m \u001b[0mKerasImage\u001b[0m\u001b[0;34m.\u001b[0m\u001b[0mload_img\u001b[0m\u001b[0;34m(\u001b[0m\u001b[0mpath\u001b[0m\u001b[0;34m)\u001b[0m\u001b[0;34m\u001b[0m\u001b[0m\n\u001b[0m\u001b[1;32m      4\u001b[0m \u001b[0;34m\u001b[0m\u001b[0m\n\u001b[1;32m      5\u001b[0m \u001b[0mresult\u001b[0m \u001b[0;34m=\u001b[0m \u001b[0mpredict_image\u001b[0m\u001b[0;34m(\u001b[0m\u001b[0mimage\u001b[0m\u001b[0;34m)\u001b[0m\u001b[0;34m\u001b[0m\u001b[0m\n",
      "\u001b[0;31mNameError\u001b[0m: name 'path' is not defined"
     ]
    }
   ],
   "source": [
    "# old\n",
    "input_path = 'input/'+image_filenames[0]\n",
    "image = KerasImage.load_img(path)\n",
    "\n",
    "result = predict_image(image)\n",
    "\n",
    "\n",
    "output_path = 'output/'+'.'.join(image_filenames[0].split('.')[:-1])+'.png'\n",
    "result_resized = result.resize( (result.size[0]/2, result.size[1]/2 ) )\n",
    "result_resized.save(output_path, transparency=[0,0,0])"
   ]
  },
  {
   "cell_type": "code",
   "execution_count": null,
   "metadata": {},
   "outputs": [],
   "source": []
  },
  {
   "cell_type": "code",
   "execution_count": null,
   "metadata": {},
   "outputs": [],
   "source": []
  }
 ],
 "metadata": {
  "kernelspec": {
   "display_name": "Python 2",
   "language": "python",
   "name": "python2"
  },
  "language_info": {
   "codemirror_mode": {
    "name": "ipython",
    "version": 2
   },
   "file_extension": ".py",
   "mimetype": "text/x-python",
   "name": "python",
   "nbconvert_exporter": "python",
   "pygments_lexer": "ipython2",
   "version": "2.7.12"
  }
 },
 "nbformat": 4,
 "nbformat_minor": 2
}
